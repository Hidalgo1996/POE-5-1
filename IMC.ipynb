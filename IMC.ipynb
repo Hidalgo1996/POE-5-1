{
  "nbformat": 4,
  "nbformat_minor": 0,
  "metadata": {
    "colab": {
      "name": "IMC.ipynb",
      "provenance": [],
      "authorship_tag": "ABX9TyPuO0rrYgmivZQRgNP+RYVf",
      "include_colab_link": true
    },
    "kernelspec": {
      "name": "python3",
      "display_name": "Python 3"
    },
    "language_info": {
      "name": "python"
    }
  },
  "cells": [
    {
      "cell_type": "markdown",
      "metadata": {
        "id": "view-in-github",
        "colab_type": "text"
      },
      "source": [
        "<a href=\"https://colab.research.google.com/github/Hidalgo1996/POE-5-1/blob/main/IMC.ipynb\" target=\"_parent\"><img src=\"https://colab.research.google.com/assets/colab-badge.svg\" alt=\"Open In Colab\"/></a>"
      ]
    },
    {
      "cell_type": "code",
      "source": [
        "#@title CALCULO DE INDICE DE MASA CORPORAL { run: \"auto\", vertical-output: true }\n",
        "ESTATURA =  1.60#@param {type:\"number\"}\n",
        "PESO =  55#@param {type:\"number\"}\n",
        "print((PESO)/(ESTATURA*ESTATURA))\n"
      ],
      "metadata": {
        "colab": {
          "base_uri": "https://localhost:8080/"
        },
        "id": "Fp7qfWOD6GPi",
        "outputId": "65eb49ce-3b42-4bb4-c978-5391c354c48b"
      },
      "execution_count": 13,
      "outputs": [
        {
          "output_type": "stream",
          "name": "stdout",
          "text": [
            "21.484374999999996\n"
          ]
        }
      ]
    }
  ]
}